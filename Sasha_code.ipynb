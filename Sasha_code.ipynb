{
 "cells": [
  {
   "cell_type": "markdown",
   "metadata": {},
   "source": [
    "Распознование с опечатками\n"
   ]
  },
  {
   "cell_type": "code",
   "execution_count": 49,
   "metadata": {},
   "outputs": [
    {
     "name": "stderr",
     "output_type": "stream",
     "text": [
      "[nltk_data] Error loading punkt: <urlopen error [SSL:\n",
      "[nltk_data]     CERTIFICATE_VERIFY_FAILED] certificate verify failed:\n",
      "[nltk_data]     unable to get local issuer certificate (_ssl.c:997)>\n",
      "[nltk_data] Error loading stopwords: <urlopen error [SSL:\n",
      "[nltk_data]     CERTIFICATE_VERIFY_FAILED] certificate verify failed:\n",
      "[nltk_data]     unable to get local issuer certificate (_ssl.c:997)>\n"
     ]
    },
    {
     "data": {
      "text/plain": [
       "['хирург', 'сердце']"
      ]
     },
     "execution_count": 49,
     "metadata": {},
     "output_type": "execute_result"
    }
   ],
   "source": [
    "import nltk\n",
    "nltk.download('punkt')\n",
    "nltk.download(\"stopwords\")\n",
    "from nltk.corpus import stopwords\n",
    "from pymystem3 import Mystem\n",
    "from string import punctuation\n",
    "import pymorphy2\n",
    "from nltk.stem import SnowballStemmer\n",
    "\n",
    "\n",
    "from nltk.tokenize import word_tokenize\n",
    "\n",
    "#Create lemmatizer and stopwords list\n",
    "mystem = Mystem() \n",
    "from spellchecker import SpellChecker\n",
    "spell = SpellChecker(language='ru')\n",
    "russian_stopwords = stopwords.words(\"russian\")\n",
    "\n",
    "\n",
    "\n",
    "#Preprocess function\n",
    "def preprocess_text(text):\n",
    "    tokens = mystem.lemmatize(text.lower())\n",
    "    tokens = [ token for token in tokens if token not in russian_stopwords\\\n",
    "              and token != \" \" \\\n",
    "              and token.strip() not in punctuation]\n",
    "    \n",
    "    text = \" \".join(tokens)\n",
    "    text = word_tokenize(text)\n",
    "    correct=[]\n",
    "    misspelled = spell.unknown(text)\n",
    "    for word in misspelled:\n",
    "        correct.append(spell.correction(word))\n",
    "        \n",
    "    \n",
    "\n",
    "    return correct\n",
    "\n",
    "preprocess_text('херург серце')"
   ]
  },
  {
   "cell_type": "markdown",
   "metadata": {},
   "source": [
    "Определение по симптомам "
   ]
  },
  {
   "cell_type": "code",
   "execution_count": 37,
   "metadata": {},
   "outputs": [
    {
     "data": {
      "text/plain": [
       "2"
      ]
     },
     "execution_count": 37,
     "metadata": {},
     "output_type": "execute_result"
    }
   ],
   "source": [
    "def check_doctor(simptomy):\n",
    "    zapis=0\n",
    "    cardio = open('cardio.txt', 'r')\n",
    "    gastro = open('gastroenterologist.txt','r')\n",
    "    theraphist = open('therapist.txt','r')\n",
    "    surgeon = open('surgeon.txt', 'r')\n",
    "    spisok_simptomov_cardio=preprocess_text(cardio.read())\n",
    "    spisok_simptomov_gastro=preprocess_text(gastro.read())\n",
    "    spisok_simptomov_surgeon=preprocess_text(surgeon.read())\n",
    "    spisok_simptomov_theraphist=preprocess_text(theraphist.read())\n",
    "    simptomy=preprocess_text(simptomy)\n",
    "    result_cardio=set(spisok_simptomov_cardio) & set(simptomy)\n",
    "    result_surgeon=set(spisok_simptomov_surgeon) & set(simptomy)\n",
    "    result_gastro=set(spisok_simptomov_gastro) & set(simptomy)\n",
    "    if result_cardio:\n",
    "      zapis = 1\n",
    "    elif result_gastro:\n",
    "      zapis = 2\n",
    "    elif result_surgeon:\n",
    "      zapis = 3\n",
    "    else:\n",
    "      zapis = 4\n",
    "  \n",
    "    cardio.close()\n",
    "    gastro.close()\n",
    "    surgeon.close()\n",
    "    theraphist.close()\n",
    "    return(zapis)\n",
    "check_doctor('у меня понос')"
   ]
  },
  {
   "cell_type": "markdown",
   "metadata": {},
   "source": [
    "Определение по запросу и времени и имени врача"
   ]
  },
  {
   "cell_type": "code",
   "execution_count": 109,
   "metadata": {},
   "outputs": [
    {
     "name": "stdout",
     "output_type": "stream",
     "text": [
      "['кардиолог', 'ишемит', 'марат', 'ренатович']\n",
      "['я', 'хотел', 'бы', 'запиш', 'к', 'марат', 'ренатович', 'на', '19:00', ',', '21.02.2001']\n"
     ]
    },
    {
     "data": {
      "text/plain": [
       "('19:00', '21.02.2001', 1, 0)"
      ]
     },
     "execution_count": 109,
     "metadata": {},
     "output_type": "execute_result"
    }
   ],
   "source": [
    "import re\n",
    "from nltk.stem import SnowballStemmer\n",
    "from spellchecker import SpellChecker\n",
    "spell = SpellChecker(language='ru')\n",
    "def date_time_zapis(message):\n",
    "    snowball = SnowballStemmer(language=\"russian\")\n",
    "    date = re.search(r'\\d\\d\\.\\d\\d\\.\\d{4}',message) \n",
    "    date = (date[0] if date else 0) \n",
    "    suggest = 0;\n",
    "    time_check = re.search(r'([01]?[0-9]|2[0-3]):([0-5][0-9])',message) \n",
    "    time_check = (1 if message else 0) \n",
    "    check_zapis = re.search(r'записываться', message)\n",
    "    check_zapis = (1 if message else 0)\n",
    "    if check_zapis == 1 and time_check == 0:\n",
    "      suggest =1\n",
    "    if check_zapis == 1 and time_check == 1:\n",
    "      time = re.search(r'([01]?[0-9]|2[0-3]):([0-5][0-9])',message) \n",
    "      time = (time[0] if message else 0) \n",
    "      spisok_doctors = open('spisok_doctors.txt', 'r')\n",
    "      spisok_doctors = word_tokenize(spisok_doctors.read())\n",
    "      for (index, elem) in enumerate(spisok_doctors):\n",
    "        spisok_doctors[index] = snowball.stem(elem)\n",
    "      # message = preprocess_text(message)\n",
    "      message = word_tokenize(message)\n",
    "      for (index, elem) in enumerate(message):\n",
    "        message[index] = snowball.stem(elem)\n",
    "      correct = message\n",
    "      # misspelled = spell.unknown(message)\n",
    "      # for word in misspelled:\n",
    "      #   if word ==\"айболит\":\n",
    "      #     correct.append('айбол')\n",
    "      #   if word =='пузиков':\n",
    "      #     correct.append('пузиков')\n",
    "      #   if word =='резник':\n",
    "      #     correct.append('резник')\n",
    "      #   if word =='ишемит':\n",
    "      #     correct.append('ишемит')\n",
    "      #   correct.append(spell.correction(word))\n",
    "      therapist_name = spisok_doctors[0:4]\n",
    "      surgeon_name = spisok_doctors[4:8]\n",
    "      gastro_name = spisok_doctors[8:12]\n",
    "      cardiolog_name = spisok_doctors[12:16]\n",
    "      name_cardio=(set(cardiolog_name) & set(correct))\n",
    "      name_gastro = set(gastro_name) & set(correct)\n",
    "      name_surgeon = (set(surgeon_name) & set(correct))\n",
    "      nane_therapist =(set(therapist_name) & set(correct))\n",
    "      print(cardiolog_name)\n",
    "      print(correct)\n",
    "      if any([bool(set(cardiolog_name) & set(correct)) and bool(set(correct) & set(gastro_name)),\n",
    "      bool(set(therapist_name) & set(correct)) and bool(set(cardiolog_name) & set(correct)) ,\n",
    "      bool(set(surgeon_name) & set(correct)) and bool(set(cardiolog_name) & set(correct)) ,\n",
    "      bool(set(therapist_name) & set(correct)) and bool(set(gastro_name) & set(correct)),\n",
    "      bool(set(therapist_name) & set(correct)) and bool(set(surgeon_name) & set(correct)),\n",
    "      bool(set(gastro_name) & set(correct)) and bool(set(cardiolog_name) & set(correct)) ]\n",
    "      ):\n",
    "        doctor = 0\n",
    "      elif name_cardio:\n",
    "        doctor = 1\n",
    "      elif name_gastro:\n",
    "        doctor = 2\n",
    "      elif name_surgeon:\n",
    "        doctor = 3\n",
    "      else:\n",
    "        doctor = 4\n",
    "      # print(spisok_doctors)\n",
    "      # print(check_zapis)\n",
    "      # print(time)\n",
    "    return(time,date,doctor,suggest)    \n",
    "date_time_zapis('Я хотел бы запишите к марату ренатовичу на 19:00, 21.02.2001')"
   ]
  },
  {
   "cell_type": "markdown",
   "metadata": {},
   "source": [
    "проверка даты"
   ]
  },
  {
   "cell_type": "code",
   "execution_count": 12,
   "metadata": {},
   "outputs": [
    {
     "data": {
      "text/plain": [
       "1"
      ]
     },
     "execution_count": 12,
     "metadata": {},
     "output_type": "execute_result"
    }
   ],
   "source": [
    "import re\n",
    "import time\n",
    "from datetime import datetime\n",
    "def check_date(date):\n",
    "    try:\n",
    "      correct = time.strptime(date, '%m.%d.%Y')\n",
    "    except ValueError:\n",
    "      correct = 0\n",
    "    date = re.fullmatch(r'\\d\\d\\.\\d\\d\\.\\d{4}',date) \n",
    "    date = (date[0] if date else 0) \n",
    "    current_date = datetime.now()\n",
    "    date_now = [current_date.year,current_date.month,current_date.day]\n",
    "    date=[int(date.split('.')[2]),int(date.split('.')[1]),int(date.split('.')[0])]\n",
    "    if date[0] < date_now[0]-18 and correct !=0: \n",
    "      date = 1\n",
    "    else:\n",
    "     date = 0\n",
    "    return date\n",
    "check_date('11.12.2003')"
   ]
  },
  {
   "cell_type": "code",
   "execution_count": 57,
   "metadata": {},
   "outputs": [
    {
     "data": {
      "text/plain": [
       "['терапевт',\n",
       " 'айбол',\n",
       " 'серг',\n",
       " 'сергеевич',\n",
       " 'хирург',\n",
       " 'резник',\n",
       " 'макс',\n",
       " 'владимирович',\n",
       " 'гастроэнтеролог',\n",
       " 'пузиков',\n",
       " 'лид',\n",
       " 'васильевн',\n",
       " 'кардиолог',\n",
       " 'ишемит',\n",
       " 'марат',\n",
       " 'ренатович']"
      ]
     },
     "execution_count": 57,
     "metadata": {},
     "output_type": "execute_result"
    }
   ],
   "source": [
    "import re\n",
    "from nltk.stem import SnowballStemmer\n",
    "time = re.search(r'([01]?[0-9]|2[0-3]):([0-5][0-9])',r'Я хотел бы запишите на 9:00') \n",
    "time = (time[0] if time else 0) \n",
    "check_zapis = re.search(r'записываться',r'Я хотел бы запишите на 9:00' )\n",
    "check_zapis = (1 if check_zapis else 0)\n",
    "spisok_doctors = open('spisok_doctors.txt', 'r')\n",
    "spisok_doctors = word_tokenize(spisok_doctors.read())\n",
    "snowball = SnowballStemmer(language=\"russian\")\n",
    "for (index, elem) in enumerate(spisok_doctors):\n",
    "    spisok_doctors[index] = snowball.stem(elem)\n",
    "message = preprocess_text('Я хотел бы запишите айболиту на 9:00')\n",
    "therapist_name = spisok_doctors[0:4]\n",
    "surgeon_name = spisok_doctors[4:8]\n",
    "gastro_name = spisok_doctors[8:12]\n",
    "cardiolog_name = spisok_doctors[12:16]\n",
    "doctor = 0\n",
    "name_cardio=set(cardiolog_name) & set(message)\n",
    "if name_cardio != [ ]:\n",
    "     doctor = 1\n",
    "name_surgeon=(set(surgeon_name) & set(message))\n",
    "if name_surgeon != [ ]:\n",
    "      doctor = 3\n",
    "name_gastro=(set(gastro_name) & set(message))\n",
    "if name_gastro:\n",
    "    doctor = 2\n",
    "else:\n",
    "    doctor=4\n",
    "spisok_doctors\n"
   ]
  }
 ],
 "metadata": {
  "kernelspec": {
   "display_name": "Python 3.10.6 64-bit",
   "language": "python",
   "name": "python3"
  },
  "language_info": {
   "codemirror_mode": {
    "name": "ipython",
    "version": 3
   },
   "file_extension": ".py",
   "mimetype": "text/x-python",
   "name": "python",
   "nbconvert_exporter": "python",
   "pygments_lexer": "ipython3",
   "version": "3.10.6"
  },
  "orig_nbformat": 4,
  "vscode": {
   "interpreter": {
    "hash": "aee8b7b246df8f9039afb4144a1f6fd8d2ca17a180786b69acc140d282b71a49"
   }
  }
 },
 "nbformat": 4,
 "nbformat_minor": 2
}
